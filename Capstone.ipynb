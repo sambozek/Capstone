{
 "cells": [
  {
   "cell_type": "markdown",
   "metadata": {
    "slideshow": {
     "slide_type": "slide"
    }
   },
   "source": [
    "*This is an initial look into paths of classifying monet paintings. Due to current status may be worth even trying to do more genre based vs. artist based look into the situation.* \n",
    "  \n",
    "*The created neural network used keras on top of a theano backend. Currently using a three stage network to categorize the images.*"
   ]
  },
  {
   "cell_type": "code",
   "execution_count": 106,
   "metadata": {
    "collapsed": false,
    "slideshow": {
     "slide_type": "slide"
    }
   },
   "outputs": [],
   "source": [
    "from keras.models import Sequential        # Linear stack\n",
    "import numpy as np\n",
    "\n",
    "\n",
    "from keras.layers import (                 \n",
    "    # Flattened list of layers\n",
    "    \n",
    "                          Convolution2D,   # Filters via windows of 2d input\n",
    "                          MaxPooling2D,    # Subsets image into matrices, largest value of matrix is taken\n",
    "                          Activation,      # Filters tha activate when deisred features are identified\n",
    "    \n",
    "                          Dropout,         # Prevents overfitting by dropping based on probability 1-p\n",
    "                          Flatten,         # Layers comprising model graph\n",
    "                          Dense            # Specify input argument shape\n",
    "    \n",
    "                          )"
   ]
  },
  {
   "cell_type": "markdown",
   "metadata": {
    "collapsed": false,
    "slideshow": {
     "slide_type": "slide"
    }
   },
   "source": [
    "*In order to start it is important to begin by prcessing the data. This is a quick look into how it's done, will do quick demo*   \n",
    "  \n",
    "*Basically the image that will be looked at is taken, processed in a number of different ways (flipped, skewed, cropped, etc.). This is like turning a signature upside down for forgery. Looking at the situation through several angles.*"
   ]
  },
  {
   "cell_type": "code",
   "execution_count": 107,
   "metadata": {
    "collapsed": false,
    "slideshow": {
     "slide_type": "slide"
    }
   },
   "outputs": [],
   "source": [
    "# Data Cleaning and Preparation\n",
    "\n",
    "from keras.preprocessing.image import ImageDataGenerator, array_to_img, img_to_array, load_img\n",
    "\n",
    "\n",
    "\n",
    "d_gen = ImageDataGenerator( featurewise_center = False, # input mean as 0 over data\n",
    "                            samplewise_center = False,  # Set sample mean to 0\n",
    "                            featurewise_std_normalization=False, # Standardize around std of dataset \n",
    "                            samplewise_std_normalization=False,  # Standardize around std of sample\n",
    "                            zca_whitening=False, # Apply ZCA whitening\n",
    "                           \n",
    "                            rotation_range=0.15,   # Random Roation within specified range\n",
    "                            width_shift_range=0.15, # Horizontal shift as a fractional of image width\n",
    "                            height_shift_range=0.15, # Vertical shift as fraction of image height\n",
    "                            shear_range=0.15, # Intensity of shear\n",
    "                            zoom_range=0.15, # Either number or list, but specifies the range for the random zoom\n",
    "                            \n",
    "                            channel_shift_range=0., # Range for random channel shifts\n",
    "                            fill_mode='nearest', # How pixels outside of the boundary are dealt with\n",
    "                            cval=0., # color value for fill_mode if that value was set to 'constant'\n",
    "                            horizontal_flip=True, # Random horizontal flip of sample\n",
    "                            vertical_flip=True, # Random vertical flip of sample\n",
    "                            rescale=1./225, # Scalar multiplying the image. 1 used  \n",
    "#                             dim_ordering=K.image_dim_ordering()\n",
    "                          )"
   ]
  },
  {
   "cell_type": "code",
   "execution_count": 108,
   "metadata": {
    "collapsed": false,
    "slideshow": {
     "slide_type": "slide"
    }
   },
   "outputs": [],
   "source": [
    "monet1 = load_img('Claude_Monet,_Impression,_soleil_levant.jpg') # PIL image\n",
    "monet_array = img_to_array(monet1) # Convert the 2d Image to an array\n",
    "monet_array = monet_array.reshape((1,) + monet_array.shape) # Reshape to 1D"
   ]
  },
  {
   "cell_type": "markdown",
   "metadata": {},
   "source": [
    "Show the purdy pictures."
   ]
  },
  {
   "cell_type": "code",
   "execution_count": 109,
   "metadata": {
    "collapsed": true,
    "slideshow": {
     "slide_type": "slide"
    }
   },
   "outputs": [],
   "source": [
    "# t = 0\n",
    "# for batch in d_gen.flow(monet_array, batch_size=1,\n",
    "#                         save_to_dir='mod', save_prefix='monet', \n",
    "#                         save_format='jpeg'):\n",
    "#     t += 1\n",
    "#     if t > 20: # Create 20 manipulated images\n",
    "#         break "
   ]
  },
  {
   "cell_type": "markdown",
   "metadata": {
    "slideshow": {
     "slide_type": "slide"
    }
   },
   "source": [
    "# Creation of the Model\n",
    "\n",
    "*Here is where the model is created. So far the model that is being used is a rather simple three step neural network. Then going to build out a bit more*"
   ]
  },
  {
   "cell_type": "code",
   "execution_count": 137,
   "metadata": {
    "collapsed": true,
    "slideshow": {
     "slide_type": "slide"
    }
   },
   "outputs": [],
   "source": [
    "\n",
    "\n",
    "model = Sequential()\n",
    "model.add(Convolution2D(32,3,3, input_shape=(3,100,100)))\n",
    "model.add(Activation('relu'))\n",
    "model.add(MaxPooling2D(pool_size=(3,3)))\n",
    "\n",
    "model.add(Convolution2D(64,2,2))\n",
    "model.add(Activation('relu'))\n",
    "model.add(MaxPooling2D(pool_size=(2,2)))\n",
    "\n",
    "model.add(Convolution2D(128,2,2))\n",
    "model.add(Activation('relu'))\n",
    "model.add(MaxPooling2D(pool_size=(2,2)))\n",
    "\n",
    "model.add(Convolution2D(128,2,2))\n",
    "model.add(Activation('relu'))\n",
    "model.add(MaxPooling2D(pool_size=(2,2)))\n"
   ]
  },
  {
   "cell_type": "code",
   "execution_count": 138,
   "metadata": {
    "collapsed": false
   },
   "outputs": [],
   "source": [
    "\n",
    "# model = Sequential()\n",
    "# model.add(Convolution2D(32,3,3, input_shape=(3,100,100)))\n",
    "# model.add(Activation('relu'))\n",
    "# model.add(MaxPooling2D(pool_size=(3,3)))\n",
    "\n",
    "# model.add(Convolution2D(64,3,3)\n",
    "# model.add(Activation('relu'))\n",
    "# model.add(MaxPooling2D(pool_size=(3,3)))\n",
    "          \n",
    "# model.add(Convolution2D(128,2,2))\n",
    "# model.add(Activation('relu'))\n",
    "# model.add(MaxPooling2D(pool_size=(2,2)))"
   ]
  },
  {
   "cell_type": "markdown",
   "metadata": {
    "slideshow": {
     "slide_type": "slide"
    }
   },
   "source": [
    "# Build the model"
   ]
  },
  {
   "cell_type": "code",
   "execution_count": 139,
   "metadata": {
    "collapsed": false,
    "slideshow": {
     "slide_type": "subslide"
    }
   },
   "outputs": [],
   "source": [
    "from keras.regularizers import l1l2, activity_l1l2\n",
    "\n",
    "model.add(Flatten())\n",
    "model.add(Dense(256, activation='relu'))   # Rectified Linear Unit\n",
    "model.add(Dropout(0.5))                 # Drop 50% of the Neurons\n",
    "model.add(Dense(128, activation='sigmoid'))  # Yay, sigmoids\n",
    "model.add(Dropout(0.5))                 # Drop 50% of the Neurons\n",
    "model.add(Dense(1, activation='sigmoid'))\n",
    "\n",
    "\n",
    "model.compile(loss='binary_crossentropy',\n",
    "              optimizer='rmsprop',\n",
    "              metrics=['accuracy'])"
   ]
  },
  {
   "cell_type": "code",
   "execution_count": 140,
   "metadata": {
    "collapsed": false,
    "scrolled": true
   },
   "outputs": [
    {
     "name": "stdout",
     "output_type": "stream",
     "text": [
      "____________________________________________________________________________________________________\n",
      "Layer (type)                     Output Shape          Param #     Connected to                     \n",
      "====================================================================================================\n",
      "convolution2d_68 (Convolution2D) (None, 32, 98, 98)    896         convolution2d_input_17[0][0]     \n",
      "____________________________________________________________________________________________________\n",
      "activation_67 (Activation)       (None, 32, 98, 98)    0           convolution2d_68[0][0]           \n",
      "____________________________________________________________________________________________________\n",
      "maxpooling2d_67 (MaxPooling2D)   (None, 32, 32, 32)    0           activation_67[0][0]              \n",
      "____________________________________________________________________________________________________\n",
      "convolution2d_69 (Convolution2D) (None, 64, 31, 31)    8256        maxpooling2d_67[0][0]            \n",
      "____________________________________________________________________________________________________\n",
      "activation_68 (Activation)       (None, 64, 31, 31)    0           convolution2d_69[0][0]           \n",
      "____________________________________________________________________________________________________\n",
      "maxpooling2d_68 (MaxPooling2D)   (None, 64, 15, 15)    0           activation_68[0][0]              \n",
      "____________________________________________________________________________________________________\n",
      "convolution2d_70 (Convolution2D) (None, 128, 14, 14)   32896       maxpooling2d_68[0][0]            \n",
      "____________________________________________________________________________________________________\n",
      "activation_69 (Activation)       (None, 128, 14, 14)   0           convolution2d_70[0][0]           \n",
      "____________________________________________________________________________________________________\n",
      "maxpooling2d_69 (MaxPooling2D)   (None, 128, 7, 7)     0           activation_69[0][0]              \n",
      "____________________________________________________________________________________________________\n",
      "convolution2d_71 (Convolution2D) (None, 128, 6, 6)     65664       maxpooling2d_69[0][0]            \n",
      "____________________________________________________________________________________________________\n",
      "activation_70 (Activation)       (None, 128, 6, 6)     0           convolution2d_71[0][0]           \n",
      "____________________________________________________________________________________________________\n",
      "maxpooling2d_70 (MaxPooling2D)   (None, 128, 3, 3)     0           activation_70[0][0]              \n",
      "____________________________________________________________________________________________________\n",
      "flatten_29 (Flatten)             (None, 1152)          0           maxpooling2d_70[0][0]            \n",
      "____________________________________________________________________________________________________\n",
      "dense_39 (Dense)                 (None, 256)           295168      flatten_29[0][0]                 \n",
      "____________________________________________________________________________________________________\n",
      "dropout_24 (Dropout)             (None, 256)           0           dense_39[0][0]                   \n",
      "____________________________________________________________________________________________________\n",
      "dense_40 (Dense)                 (None, 128)           32896       dropout_24[0][0]                 \n",
      "____________________________________________________________________________________________________\n",
      "dropout_25 (Dropout)             (None, 128)           0           dense_40[0][0]                   \n",
      "____________________________________________________________________________________________________\n",
      "dense_41 (Dense)                 (None, 1)             129         dropout_25[0][0]                 \n",
      "====================================================================================================\n",
      "Total params: 435905\n",
      "____________________________________________________________________________________________________\n"
     ]
    }
   ],
   "source": [
    "model.summary()"
   ]
  },
  {
   "cell_type": "code",
   "execution_count": 141,
   "metadata": {
    "collapsed": false,
    "slideshow": {
     "slide_type": "slide"
    }
   },
   "outputs": [],
   "source": [
    "# use the above datagen for training\n",
    "d_gen = ImageDataGenerator(rescale=1./255,\n",
    "                          shear_range=0.2,\n",
    "                          zoom_range=0.2,\n",
    "                          horizontal_flip=True)\n",
    "\n",
    "# For test only use a rescale function\n",
    "test_d_gen = ImageDataGenerator(rescale=1./255)"
   ]
  },
  {
   "cell_type": "code",
   "execution_count": 142,
   "metadata": {
    "collapsed": false,
    "scrolled": true,
    "slideshow": {
     "slide_type": "slide"
    }
   },
   "outputs": [],
   "source": [
    "# import numpy as np\n",
    "\n",
    "# monet_gen = d_gen.flow_from_directory('/home/sambozek/Desktop/mod_monet_data/Test',       # Folder containing the test images\n",
    "#                                      target_size = (100, 100),              # Resize to 150 * 150 pxs\n",
    "#                                      batch_size = 12,                       # Reduce Noise, larger batch less noise\n",
    "#                                      class_mode='binary')                   # Binary Classification Problem\n",
    "\n",
    "# bottleneck_features_train = model.predict_generator(monet_gen, 1500)\n",
    "# np.save(open('bottleneck_features_train.npy', 'w'), bottleneck_features_train)\n",
    "\n",
    "# hold_out = d_gen.flow_from_directory('/home/sambozek/Desktop/mod_monet_data/Hold Out/',\n",
    "#                                          target_size= (100, 100),\n",
    "#                                          batch_size = 8,\n",
    "#                                          class_mode='binary')\n",
    "\n",
    "# bottleneck_features_validation = model.predict_generator(hold_out, 1000)\n",
    "# np.save(open('bottleneck_features_validation.npy', 'w'), bottleneck_features_validation)"
   ]
  },
  {
   "cell_type": "markdown",
   "metadata": {},
   "source": [
    "To avoid `Epoch comprised more than 'samples_per_epoch' samples` error need to make sure that batch size is divisible into "
   ]
  },
  {
   "cell_type": "code",
   "execution_count": 143,
   "metadata": {
    "collapsed": false,
    "slideshow": {
     "slide_type": "slide"
    }
   },
   "outputs": [
    {
     "name": "stdout",
     "output_type": "stream",
     "text": [
      "Epoch 1/50\n",
      "641/640 [==============================] - 20s - loss: 0.7583 - acc: 0.5257 - val_loss: 1.1963 - val_acc: 0.5132\n",
      "Epoch 2/50\n",
      "648/640 [==============================] - 20s - loss: 0.6706 - acc: 0.5926 - val_loss: 0.8769 - val_acc: 0.4703\n",
      "Epoch 3/50\n",
      "648/640 [==============================] - 23s - loss: 0.6270 - acc: 0.6636 - val_loss: 1.1049 - val_acc: 0.2271\n",
      "Epoch 4/50\n",
      "641/640 [==============================] - 23s - loss: 0.6294 - acc: 0.6708 - val_loss: 1.5016 - val_acc: 0.3469\n",
      "Epoch 5/50\n",
      "648/640 [==============================] - 21s - loss: 0.5431 - acc: 0.7377 - val_loss: 1.3381 - val_acc: 0.2437\n",
      "Epoch 6/50\n",
      "641/640 [==============================] - 21s - loss: 0.4842 - acc: 0.7878 - val_loss: 1.9824 - val_acc: 0.2084\n",
      "Epoch 7/50\n",
      "648/640 [==============================] - 23s - loss: 0.5648 - acc: 0.7269 - val_loss: 1.8452 - val_acc: 0.1891\n",
      "Epoch 8/50\n",
      "648/640 [==============================] - 20s - loss: 0.4652 - acc: 0.7901 - val_loss: 2.0301 - val_acc: 0.1960\n",
      "Epoch 9/50\n",
      "641/640 [==============================] - 22s - loss: 0.4991 - acc: 0.7676 - val_loss: 1.4541 - val_acc: 0.2406\n",
      "Epoch 10/50\n",
      "648/640 [==============================] - 24s - loss: 0.4833 - acc: 0.7948 - val_loss: 1.7362 - val_acc: 0.1726\n",
      "Epoch 11/50\n",
      "641/640 [==============================] - 22s - loss: 0.4528 - acc: 0.7878 - val_loss: 1.8351 - val_acc: 0.2719\n",
      "Epoch 12/50\n",
      "648/640 [==============================] - 21s - loss: 0.4287 - acc: 0.8071 - val_loss: 2.1344 - val_acc: 0.1547\n",
      "Epoch 13/50\n",
      "641/640 [==============================] - 24s - loss: 0.4609 - acc: 0.7988 - val_loss: 1.8197 - val_acc: 0.1969\n",
      "Epoch 14/50\n",
      "648/640 [==============================] - 23s - loss: 0.4475 - acc: 0.7978 - val_loss: 1.5166 - val_acc: 0.2297\n",
      "Epoch 15/50\n",
      "648/640 [==============================] - 27s - loss: 0.4152 - acc: 0.8148 - val_loss: 1.9757 - val_acc: 0.1773\n",
      "Epoch 16/50\n",
      "641/640 [==============================] - 23s - loss: 0.3841 - acc: 0.8424 - val_loss: 1.8851 - val_acc: 0.2609\n",
      "Epoch 17/50\n",
      "648/640 [==============================] - 21s - loss: 0.4550 - acc: 0.7932 - val_loss: 1.8291 - val_acc: 0.1649\n",
      "Epoch 18/50\n",
      "641/640 [==============================] - 24s - loss: 0.4118 - acc: 0.8362 - val_loss: 1.7719 - val_acc: 0.1531\n",
      "Epoch 19/50\n",
      "648/640 [==============================] - 23s - loss: 0.4386 - acc: 0.8164 - val_loss: 1.8726 - val_acc: 0.2053\n",
      "Epoch 20/50\n",
      "648/640 [==============================] - 22s - loss: 0.4228 - acc: 0.8040 - val_loss: 2.0220 - val_acc: 0.2031\n",
      "Epoch 21/50\n",
      "641/640 [==============================] - 22s - loss: 0.3619 - acc: 0.8331 - val_loss: 2.1415 - val_acc: 0.1750\n",
      "Epoch 22/50\n",
      "648/640 [==============================] - 20s - loss: 0.4002 - acc: 0.8318 - val_loss: 2.0505 - val_acc: 0.1664\n",
      "Epoch 23/50\n",
      "641/640 [==============================] - 22s - loss: 0.4059 - acc: 0.8268 - val_loss: 2.2153 - val_acc: 0.1328\n",
      "Epoch 24/50\n",
      "648/640 [==============================] - 23s - loss: 0.3947 - acc: 0.8302 - val_loss: 2.2575 - val_acc: 0.1695\n",
      "Epoch 25/50\n",
      "641/640 [==============================] - 22s - loss: 0.4173 - acc: 0.8424 - val_loss: 1.8696 - val_acc: 0.1609\n",
      "Epoch 26/50\n",
      "648/640 [==============================] - 24s - loss: 0.3978 - acc: 0.8333 - val_loss: 2.0104 - val_acc: 0.1462\n",
      "Epoch 27/50\n",
      "648/640 [==============================] - 21s - loss: 0.3764 - acc: 0.8410 - val_loss: 1.8938 - val_acc: 0.1969\n",
      "Epoch 28/50\n",
      "641/640 [==============================] - 23s - loss: 0.3453 - acc: 0.8502 - val_loss: 1.9898 - val_acc: 0.2422\n",
      "Epoch 29/50\n",
      "648/640 [==============================] - 26s - loss: 0.3565 - acc: 0.8488 - val_loss: 2.0051 - val_acc: 0.1757\n",
      "Epoch 30/50\n",
      "641/640 [==============================] - 23s - loss: 0.3686 - acc: 0.8362 - val_loss: 2.4954 - val_acc: 0.1297\n",
      "Epoch 31/50\n",
      "648/640 [==============================] - 20s - loss: 0.3325 - acc: 0.8704 - val_loss: 2.0756 - val_acc: 0.1680\n",
      "Epoch 32/50\n",
      "648/640 [==============================] - 21s - loss: 0.3664 - acc: 0.8534 - val_loss: 2.1493 - val_acc: 0.1203\n",
      "Epoch 33/50\n",
      "641/640 [==============================] - 24s - loss: 0.3812 - acc: 0.8456 - val_loss: 2.2606 - val_acc: 0.1897\n",
      "Epoch 34/50\n",
      "648/640 [==============================] - 22s - loss: 0.3704 - acc: 0.8457 - val_loss: 2.5017 - val_acc: 0.1359\n",
      "Epoch 35/50\n",
      "641/640 [==============================] - 22s - loss: 0.3460 - acc: 0.8580 - val_loss: 2.1304 - val_acc: 0.1891\n",
      "Epoch 36/50\n",
      "648/640 [==============================] - 22s - loss: 0.3539 - acc: 0.8627 - val_loss: 2.2574 - val_acc: 0.1446\n",
      "Epoch 37/50\n",
      "648/640 [==============================] - 26s - loss: 0.3574 - acc: 0.8580 - val_loss: 2.3838 - val_acc: 0.1219\n",
      "Epoch 38/50\n",
      "641/640 [==============================] - 18s - loss: 0.3332 - acc: 0.8565 - val_loss: 2.2055 - val_acc: 0.1415\n",
      "Epoch 39/50\n",
      "648/640 [==============================] - 26s - loss: 0.3111 - acc: 0.8657 - val_loss: 2.3007 - val_acc: 0.2188\n",
      "Epoch 40/50\n",
      "641/640 [==============================] - 20s - loss: 0.3217 - acc: 0.8658 - val_loss: 2.3692 - val_acc: 0.1509\n",
      "Epoch 41/50\n",
      "648/640 [==============================] - 18s - loss: 0.3574 - acc: 0.8611 - val_loss: 2.2442 - val_acc: 0.1906\n",
      "Epoch 42/50\n",
      "641/640 [==============================] - 25s - loss: 0.3646 - acc: 0.8487 - val_loss: 2.5494 - val_acc: 0.1328\n",
      "Epoch 43/50\n",
      "648/640 [==============================] - 20s - loss: 0.3390 - acc: 0.8611 - val_loss: 2.2829 - val_acc: 0.1540\n",
      "Epoch 44/50\n",
      "648/640 [==============================] - 22s - loss: 0.3443 - acc: 0.8688 - val_loss: 2.4810 - val_acc: 0.1281\n",
      "Epoch 45/50\n",
      "641/640 [==============================] - 19s - loss: 0.3537 - acc: 0.8487 - val_loss: 2.3885 - val_acc: 0.1337\n",
      "Epoch 46/50\n",
      "648/640 [==============================] - 23s - loss: 0.3131 - acc: 0.8781 - val_loss: 2.9383 - val_acc: 0.1734\n",
      "Epoch 47/50\n",
      "641/640 [==============================] - 21s - loss: 0.3586 - acc: 0.8534 - val_loss: 2.0842 - val_acc: 0.2613\n",
      "Epoch 48/50\n",
      "648/640 [==============================] - 22s - loss: 0.3019 - acc: 0.8796 - val_loss: 2.4205 - val_acc: 0.2297\n",
      "Epoch 49/50\n",
      "648/640 [==============================] - 20s - loss: 0.3434 - acc: 0.8565 - val_loss: 2.6714 - val_acc: 0.1509\n",
      "Epoch 50/50\n",
      "641/640 [==============================] - 22s - loss: 0.3219 - acc: 0.8643 - val_loss: 2.4852 - val_acc: 0.1187\n"
     ]
    }
   ],
   "source": [
    "model.fit_generator(monet_gen,                  # Resize the image get from test dictionary\n",
    "                   samples_per_epoch=640,      # How many samples to use per epoch\n",
    "                   nb_epoch=50,                 # Number of epochs used\n",
    "                   validation_data = hold_out,  # Location of the validation data\n",
    "                   nb_val_samples=640,          # Validation samples used per epoch\n",
    "                   verbose=1)\n",
    "\n",
    "model.save_weights('monet_weights.h5', overwrite=True)"
   ]
  },
  {
   "cell_type": "code",
   "execution_count": null,
   "metadata": {
    "collapsed": false
   },
   "outputs": [],
   "source": [
    "train_data = np.load(open('bottleneck_features_train.npy'))\n",
    "# the features were saved in order, so recreating the labels is easy\n",
    "train_labels = np.array([0] * 750 + [1] * 750)\n",
    "\n",
    "validation_data = np.load(open('bottleneck_features_validation.npy'))\n",
    "validation_labels = np.array([0] * 500 + [1] * 500)\n",
    "\n",
    "model = Sequential()\n",
    "model.add(Flatten())\n",
    "model.add(Dense(256, activation='relu'))\n",
    "model.add(Dropout(0.5))\n",
    "model.add(Dense(1, activation='sigmoid'))\n",
    "\n",
    "model.compile(optimizer='rmsprop',\n",
    "              loss='binary_crossentropy',\n",
    "              metrics=['accuracy'])\n",
    "\n",
    "model.fit(train_data, train_labels,\n",
    "          nb_epoch=2500, batch_size=32,\n",
    "          validation_data=(validation_data, validation_labels))\n",
    "model.save_weights('bottleneck_fc_model.h5')"
   ]
  },
  {
   "cell_type": "code",
   "execution_count": null,
   "metadata": {
    "collapsed": false
   },
   "outputs": [],
   "source": [
    "from keras.utils.visualize_util import plot\n",
    "import pydot\n",
    "plot(model, to_file='model.png')"
   ]
  },
  {
   "cell_type": "code",
   "execution_count": null,
   "metadata": {
    "collapsed": false
   },
   "outputs": [],
   "source": [
    "monet_model = model.to_json() # Save model to json"
   ]
  },
  {
   "cell_type": "code",
   "execution_count": null,
   "metadata": {
    "collapsed": false
   },
   "outputs": [],
   "source": [
    "print(model.history)"
   ]
  },
  {
   "cell_type": "markdown",
   "metadata": {},
   "source": [
    "* Test : \n",
    "    * Monet:\n",
    "    * Not Monet:\n",
    "* Hold Out: **No Issues**\n",
    "    * Monet:\n",
    "    * Not Monet:\n",
    "\n",
    "*Initial running of the model found there was an issue with the image files and was given this error message:  \n",
    "**IOError: image file is truncated (39 bytes not processed)**  \n",
    "From [StackOverflow](http://bit.ly/21oXdhF) it was found that the images were likely corrupted or had unneeded trailing bytes. In order to find these truncated files used [jpeginfo](https://github.com/tjko/jpeginfo) to create a text file of the analysis of the jpegs. Output read by pandas allows for isolation of the trouble data.*\n"
   ]
  },
  {
   "cell_type": "markdown",
   "metadata": {},
   "source": [
    "!jpeginfo -c *.jpg >> Test_monet.txt"
   ]
  },
  {
   "cell_type": "code",
   "execution_count": null,
   "metadata": {
    "collapsed": true
   },
   "outputs": [],
   "source": [
    "import pandas as pd\n",
    "import numpy as np"
   ]
  },
  {
   "cell_type": "code",
   "execution_count": null,
   "metadata": {
    "collapsed": false
   },
   "outputs": [],
   "source": [
    "# test_monet = pd.read_csv(\"/Users/sebozek/Desktop/Test.txt\",delim_whitespace=True,header=None)\n",
    "# test_not_monet = pd.read_csv(\"/Users/sebozek/Desktop/Test.txt\",delim_whitespace=True,header=None)\n",
    "# val_monet = pd.read_csv(\"/Users/sebozek/Desktop/HoldOut.txt\",delim_whitespace=True,header=None, error_bad_lines=False)\n",
    "# val_not_monet = pd.read_csv(\"/Users/sebozek/Desktop/HoldOut_nm.txt\", delim_whitespace=True, header=None,  error_bad_lines=False)"
   ]
  },
  {
   "cell_type": "code",
   "execution_count": null,
   "metadata": {
    "collapsed": false
   },
   "outputs": [],
   "source": [
    "# dfs = [test_monet, test_not_monet, val_monet, val_not_monet]\n",
    "\n",
    "# # More Descriptive Labels\n",
    "# for df in dfs:\n",
    "#     df.columns = [\"img_name\", \"width\", \"x\", 'height', 'bits', 'format', 'N/P', 'pixels', 'test']"
   ]
  },
  {
   "cell_type": "code",
   "execution_count": null,
   "metadata": {
    "collapsed": false
   },
   "outputs": [],
   "source": [
    "# for df in dfs:\n",
    "#     print df.test.unique()\n",
    "    \n",
    "# print val_not_monet.test.unique()"
   ]
  },
  {
   "cell_type": "code",
   "execution_count": null,
   "metadata": {
    "collapsed": false
   },
   "outputs": [],
   "source": [
    "# val_not_monet['img_name'][val_not_monet.test == '[ERROR]'].values"
   ]
  },
  {
   "cell_type": "markdown",
   "metadata": {
    "collapsed": true,
    "slideshow": {
     "slide_type": "slide"
    }
   },
   "source": [
    "## To Do\n",
    "\n",
    "* Expand to try categorizing styles?\n",
    "* Figure out a few hatches\n",
    "* Try getting to above a 95% accuracy\n",
    "* Manipulate loss functions\n",
    "* Change the dropout rate and see what's going on\n",
    "* Validation\n",
    "    * ROC curve\n",
    "    * Confusion Matrix\n",
    "* What does model think is important?\n",
    "* Restricted Boltzmann Machine for Monet Replication"
   ]
  },
  {
   "cell_type": "code",
   "execution_count": null,
   "metadata": {
    "collapsed": true
   },
   "outputs": [],
   "source": [
    "# Import previous model (that worked)\n",
    "model.load_weights('my_model_weights.h5')\n",
    "\n",
    "# Get image output\n",
    "output_1 = K.function([model.layers[0].input],\n",
    "                     [model.layers[1].output])"
   ]
  },
  {
   "cell_type": "code",
   "execution_count": null,
   "metadata": {
    "collapsed": true
   },
   "outputs": [],
   "source": [
    "import json\n",
    "\n",
    "with open('model.txt', 'w') as outfile:\n",
    "    json.dump(data, outfile)"
   ]
  },
  {
   "cell_type": "code",
   "execution_count": null,
   "metadata": {
    "collapsed": false
   },
   "outputs": [],
   "source": [
    "test_not_monet.head(1)"
   ]
  },
  {
   "cell_type": "code",
   "execution_count": null,
   "metadata": {
    "collapsed": true
   },
   "outputs": [],
   "source": []
  }
 ],
 "metadata": {
  "kernelspec": {
   "display_name": "Python 2",
   "language": "python",
   "name": "python2"
  },
  "language_info": {
   "codemirror_mode": {
    "name": "ipython",
    "version": 2
   },
   "file_extension": ".py",
   "mimetype": "text/x-python",
   "name": "python",
   "nbconvert_exporter": "python",
   "pygments_lexer": "ipython2",
   "version": "2.7.11"
  }
 },
 "nbformat": 4,
 "nbformat_minor": 0
}
