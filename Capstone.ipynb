{
 "cells": [
  {
   "cell_type": "markdown",
   "metadata": {
    "slideshow": {
     "slide_type": "slide"
    }
   },
   "source": [
    "*This is an initial look into paths of classifying monet paintings. Due to current status may be worth even trying to do more genre based vs. artist based look into the situation.* \n",
    "  \n",
    "*The created neural network used keras on top of a theano backend. Currently using a three stage network to categorize the images.*"
   ]
  },
  {
   "cell_type": "code",
   "execution_count": 1,
   "metadata": {
    "collapsed": false,
    "slideshow": {
     "slide_type": "slide"
    }
   },
   "outputs": [
    {
     "name": "stderr",
     "output_type": "stream",
     "text": [
      "Using Theano backend.\n",
      "Using gpu device 0: GeForce GTX 960 (CNMeM is disabled, cuDNN not available)\n"
     ]
    }
   ],
   "source": [
    "from keras.models import Sequential        # Linear stack\n",
    "import numpy as np\n",
    "\n",
    "\n",
    "from keras.layers import (                 \n",
    "    # Flattened list of layers\n",
    "    \n",
    "                          Convolution2D,   # Filters via windows of 2d input\n",
    "                          MaxPooling2D,    # Subsets image into matrices, largest value of matrix is taken\n",
    "                          Activation,      # Filters tha activate when deisred features are identified\n",
    "    \n",
    "                          Dropout,         # Prevents overfitting by dropping based on probability 1-p\n",
    "                          Flatten,         # Layers comprising model graph\n",
    "                          Dense            # Specify input argument shape\n",
    "    \n",
    "                          )"
   ]
  },
  {
   "cell_type": "markdown",
   "metadata": {
    "collapsed": false,
    "slideshow": {
     "slide_type": "slide"
    }
   },
   "source": [
    "*In order to start it is important to begin by prcessing the data. This is a quick look into how it's done, will do quick demo*   \n",
    "  \n",
    "*Basically the image that will be looked at is taken, processed in a number of different ways (flipped, skewed, cropped, etc.). This is like turning a signature upside down for forgery. Looking at the situation through several angles.*"
   ]
  },
  {
   "cell_type": "code",
   "execution_count": 2,
   "metadata": {
    "collapsed": false,
    "slideshow": {
     "slide_type": "slide"
    }
   },
   "outputs": [],
   "source": [
    "# Data Cleaning and Preparation\n",
    "\n",
    "from keras.preprocessing.image import ImageDataGenerator, array_to_img, img_to_array, load_img\n",
    "\n",
    "\n",
    "\n",
    "d_gen = ImageDataGenerator( featurewise_center = False, # input mean as 0 over data\n",
    "                            samplewise_center = False,  # Set sample mean to 0\n",
    "                            featurewise_std_normalization=False, # Standardize around std of dataset \n",
    "                            samplewise_std_normalization=False,  # Standardize around std of sample\n",
    "                            zca_whitening=False, # Apply ZCA whitening\n",
    "                           \n",
    "                            rotation_range=0.15,   # Random Roation within specified range\n",
    "                            width_shift_range=0.15, # Horizontal shift as a fractional of image width\n",
    "                            height_shift_range=0.15, # Vertical shift as fraction of image height\n",
    "                            shear_range=0.15, # Intensity of shear\n",
    "                            zoom_range=0.15, # Either number or list, but specifies the range for the random zoom\n",
    "                            \n",
    "                            channel_shift_range=0., # Range for random channel shifts\n",
    "                            fill_mode='nearest', # How pixels outside of the boundary are dealt with\n",
    "                            cval=0., # color value for fill_mode if that value was set to 'constant'\n",
    "                            horizontal_flip=True, # Random horizontal flip of sample\n",
    "                            vertical_flip=True, # Random vertical flip of sample\n",
    "                            rescale=1./225, # Scalar multiplying the image. 1 used  \n",
    "#                             dim_ordering=K.image_dim_ordering()\n",
    "                          )"
   ]
  },
  {
   "cell_type": "code",
   "execution_count": 108,
   "metadata": {
    "collapsed": false,
    "slideshow": {
     "slide_type": "slide"
    }
   },
   "outputs": [],
   "source": [
    "monet1 = load_img('Claude_Monet,_Impression,_soleil_levant.jpg') # PIL image\n",
    "monet_array = img_to_array(monet1) # Convert the 2d Image to an array\n",
    "monet_array = monet_array.reshape((1,) + monet_array.shape) # Reshape to 1D"
   ]
  },
  {
   "cell_type": "markdown",
   "metadata": {},
   "source": [
    "Show the purdy pictures."
   ]
  },
  {
   "cell_type": "code",
   "execution_count": 109,
   "metadata": {
    "collapsed": true,
    "slideshow": {
     "slide_type": "slide"
    }
   },
   "outputs": [],
   "source": [
    "# t = 0\n",
    "# for batch in d_gen.flow(monet_array, batch_size=1,\n",
    "#                         save_to_dir='mod', save_prefix='monet', \n",
    "#                         save_format='jpeg'):\n",
    "#     t += 1\n",
    "#     if t > 20: # Create 20 manipulated images\n",
    "#         break "
   ]
  },
  {
   "cell_type": "markdown",
   "metadata": {
    "slideshow": {
     "slide_type": "slide"
    }
   },
   "source": [
    "# Creation of the Model\n",
    "\n",
    "*Here is where the model is created. So far the model that is being used is a rather simple three step neural network. Then going to build out a bit more*"
   ]
  },
  {
   "cell_type": "code",
   "execution_count": 22,
   "metadata": {
    "collapsed": false,
    "slideshow": {
     "slide_type": "slide"
    }
   },
   "outputs": [],
   "source": [
    "\n",
    "\n",
    "model = Sequential()\n",
    "\n",
    "model.add(Convolution2D(32,3,3, input_shape=(3,150,150)))\n",
    "model.add(Activation('relu'))\n",
    "model.add(Dropout(0.2))  \n",
    "model.add(MaxPooling2D(pool_size=(3,3)))\n",
    "\n",
    "model.add(Convolution2D(64,2,2))\n",
    "model.add(Activation('relu'))\n",
    "model.add(MaxPooling2D(pool_size=(2,2)))\n",
    "\n",
    "model.add(Convolution2D(128,2,2))\n",
    "model.add(Activation('relu'))\n",
    "model.add(MaxPooling2D(pool_size=(2,2)))\n",
    "\n",
    "model.add(Convolution2D(256,3,3))\n",
    "model.add(Activation('relu'))\n",
    "model.add(MaxPooling2D(pool_size=(3,3)))\n"
   ]
  },
  {
   "cell_type": "code",
   "execution_count": 23,
   "metadata": {
    "collapsed": false
   },
   "outputs": [],
   "source": [
    "\n",
    "# model = Sequential()\n",
    "# model.add(Convolution2D(32,3,3, input_shape=(3,100,100)))\n",
    "# model.add(Activation('relu'))\n",
    "# model.add(MaxPooling2D(pool_size=(3,3)))\n",
    "\n",
    "# model.add(Convolution2D(64,3,3)\n",
    "# model.add(Activation('relu'))\n",
    "# model.add(MaxPooling2D(pool_size=(3,3)))\n",
    "          \n",
    "# model.add(Convolution2D(128,2,2))\n",
    "# model.add(Activation('relu'))\n",
    "# model.add(MaxPooling2D(pool_size=(2,2)))"
   ]
  },
  {
   "cell_type": "markdown",
   "metadata": {
    "slideshow": {
     "slide_type": "slide"
    }
   },
   "source": [
    "# Build the model"
   ]
  },
  {
   "cell_type": "code",
   "execution_count": 24,
   "metadata": {
    "collapsed": false,
    "slideshow": {
     "slide_type": "subslide"
    }
   },
   "outputs": [],
   "source": [
    "from keras.regularizers import l1l2, activity_l1l2\n",
    "\n",
    "model.add(Flatten())\n",
    "model.add(Dense(256, activation='relu'))   # Rectified Linear Unit\n",
    "model.add(Dropout(0.5))                 # Drop 50% of the Neurons\n",
    "model.add(Dense(128, activation='sigmoid'))  # Yay, sigmoids\n",
    "model.add(Dropout(0.5))                 # Drop 50% of the Neurons\n",
    "model.add(Dense(1, activation='sigmoid'))\n",
    "\n",
    "\n",
    "model.compile(loss='binary_crossentropy',\n",
    "              optimizer='rmsprop',\n",
    "              metrics=['accuracy'])"
   ]
  },
  {
   "cell_type": "code",
   "execution_count": 25,
   "metadata": {
    "collapsed": false,
    "scrolled": true
   },
   "outputs": [
    {
     "name": "stdout",
     "output_type": "stream",
     "text": [
      "____________________________________________________________________________________________________\n",
      "Layer (type)                     Output Shape          Param #     Connected to                     \n",
      "====================================================================================================\n",
      "convolution2d_9 (Convolution2D)  (None, 32, 148, 148)  896         convolution2d_input_3[0][0]      \n",
      "____________________________________________________________________________________________________\n",
      "activation_9 (Activation)        (None, 32, 148, 148)  0           convolution2d_9[0][0]            \n",
      "____________________________________________________________________________________________________\n",
      "dropout_8 (Dropout)              (None, 32, 148, 148)  0           activation_9[0][0]               \n",
      "____________________________________________________________________________________________________\n",
      "maxpooling2d_9 (MaxPooling2D)    (None, 32, 49, 49)    0           dropout_8[0][0]                  \n",
      "____________________________________________________________________________________________________\n",
      "convolution2d_10 (Convolution2D) (None, 64, 48, 48)    8256        maxpooling2d_9[0][0]             \n",
      "____________________________________________________________________________________________________\n",
      "activation_10 (Activation)       (None, 64, 48, 48)    0           convolution2d_10[0][0]           \n",
      "____________________________________________________________________________________________________\n",
      "maxpooling2d_10 (MaxPooling2D)   (None, 64, 24, 24)    0           activation_10[0][0]              \n",
      "____________________________________________________________________________________________________\n",
      "convolution2d_11 (Convolution2D) (None, 128, 23, 23)   32896       maxpooling2d_10[0][0]            \n",
      "____________________________________________________________________________________________________\n",
      "activation_11 (Activation)       (None, 128, 23, 23)   0           convolution2d_11[0][0]           \n",
      "____________________________________________________________________________________________________\n",
      "maxpooling2d_11 (MaxPooling2D)   (None, 128, 11, 11)   0           activation_11[0][0]              \n",
      "____________________________________________________________________________________________________\n",
      "convolution2d_12 (Convolution2D) (None, 256, 9, 9)     295168      maxpooling2d_11[0][0]            \n",
      "____________________________________________________________________________________________________\n",
      "activation_12 (Activation)       (None, 256, 9, 9)     0           convolution2d_12[0][0]           \n",
      "____________________________________________________________________________________________________\n",
      "maxpooling2d_12 (MaxPooling2D)   (None, 256, 3, 3)     0           activation_12[0][0]              \n",
      "____________________________________________________________________________________________________\n",
      "flatten_3 (Flatten)              (None, 2304)          0           maxpooling2d_12[0][0]            \n",
      "____________________________________________________________________________________________________\n",
      "dense_7 (Dense)                  (None, 256)           590080      flatten_3[0][0]                  \n",
      "____________________________________________________________________________________________________\n",
      "dropout_9 (Dropout)              (None, 256)           0           dense_7[0][0]                    \n",
      "____________________________________________________________________________________________________\n",
      "dense_8 (Dense)                  (None, 128)           32896       dropout_9[0][0]                  \n",
      "____________________________________________________________________________________________________\n",
      "dropout_10 (Dropout)             (None, 128)           0           dense_8[0][0]                    \n",
      "____________________________________________________________________________________________________\n",
      "dense_9 (Dense)                  (None, 1)             129         dropout_10[0][0]                 \n",
      "====================================================================================================\n",
      "Total params: 960321\n",
      "____________________________________________________________________________________________________\n"
     ]
    }
   ],
   "source": [
    "model.summary()"
   ]
  },
  {
   "cell_type": "code",
   "execution_count": 26,
   "metadata": {
    "collapsed": false,
    "slideshow": {
     "slide_type": "slide"
    }
   },
   "outputs": [],
   "source": [
    "# use the above datagen for training\n",
    "d_gen = ImageDataGenerator(rescale=1./255,\n",
    "                          shear_range=0.2,\n",
    "                          zoom_range=0.2,\n",
    "                          horizontal_flip=True)\n",
    "\n",
    "# For test only use a rescale function\n",
    "test_d_gen = ImageDataGenerator(rescale=1./255)"
   ]
  },
  {
   "cell_type": "code",
   "execution_count": 27,
   "metadata": {
    "collapsed": false,
    "scrolled": true,
    "slideshow": {
     "slide_type": "slide"
    }
   },
   "outputs": [
    {
     "name": "stdout",
     "output_type": "stream",
     "text": [
      "Found 500 images belonging to 2 classes.\n",
      "Found 500 images belonging to 2 classes.\n"
     ]
    }
   ],
   "source": [
    "import numpy as np\n",
    "\n",
    "monet_gen = d_gen.flow_from_directory('/home/sambozek/Desktop/Better_Data/Test/',       # Folder containing the test images\n",
    "                                     target_size = (150, 150),              # Resize to 150 * 150 pxs\n",
    "                                     batch_size = 25,                       # Reduce Noise, larger batch less noise\n",
    "                                     class_mode='binary')                   # Binary Classification Problem\n",
    "\n",
    "# bottleneck_features_train = model.predict_generator(monet_gen, 1500)\n",
    "# np.save(open('bottleneck_features_train.npy', 'w'), bottleneck_features_train)\n",
    "\n",
    "hold_out = d_gen.flow_from_directory('/home/sambozek/Desktop/Better_Data/Hold_Out/',\n",
    "                                         target_size= (150, 150),\n",
    "                                         batch_size = 25,\n",
    "                                         class_mode='binary')\n",
    "\n",
    "# bottleneck_features_validation = model.predict_generator(hold_out, 1000)\n",
    "# np.save(open('bottleneck_features_validation.npy', 'w'), bottleneck_features_validation)"
   ]
  },
  {
   "cell_type": "markdown",
   "metadata": {},
   "source": [
    "To avoid `Epoch comprised more than 'samples_per_epoch' samples` error need to make sure that batch size is divisible into "
   ]
  },
  {
   "cell_type": "code",
   "execution_count": null,
   "metadata": {
    "collapsed": false,
    "slideshow": {
     "slide_type": "slide"
    }
   },
   "outputs": [
    {
     "name": "stdout",
     "output_type": "stream",
     "text": [
      "Epoch 1/500\n",
      "125/125 [==============================] - 4s - loss: 0.3064 - acc: 0.8400 - val_loss: 0.4152 - val_acc: 0.8240\n",
      "Epoch 2/500\n",
      "125/125 [==============================] - 2s - loss: 0.4054 - acc: 0.8400 - val_loss: 0.4047 - val_acc: 0.8480\n",
      "Epoch 3/500\n",
      "125/125 [==============================] - 2s - loss: 0.3382 - acc: 0.8320 - val_loss: 0.3854 - val_acc: 0.8320\n",
      "Epoch 4/500\n",
      "125/125 [==============================] - 2s - loss: 0.4444 - acc: 0.8000 - val_loss: 0.4626 - val_acc: 0.7840\n",
      "Epoch 5/500\n",
      "125/125 [==============================] - 2s - loss: 0.4065 - acc: 0.8160 - val_loss: 0.3622 - val_acc: 0.8320\n",
      "Epoch 6/500\n",
      "125/125 [==============================] - 2s - loss: 0.4300 - acc: 0.8000 - val_loss: 0.4072 - val_acc: 0.8240\n",
      "Epoch 7/500\n",
      "125/125 [==============================] - 3s - loss: 0.3654 - acc: 0.8480 - val_loss: 0.3504 - val_acc: 0.8400\n",
      "Epoch 8/500\n",
      "125/125 [==============================] - 2s - loss: 0.4294 - acc: 0.7840 - val_loss: 0.4013 - val_acc: 0.8240\n",
      "Epoch 9/500\n",
      "125/125 [==============================] - 2s - loss: 0.3318 - acc: 0.8560 - val_loss: 0.4187 - val_acc: 0.8400\n",
      "Epoch 10/500\n",
      "125/125 [==============================] - 2s - loss: 0.4600 - acc: 0.7680 - val_loss: 0.2782 - val_acc: 0.8960\n",
      "Epoch 11/500\n",
      "125/125 [==============================] - 2s - loss: 0.4649 - acc: 0.8560 - val_loss: 0.4166 - val_acc: 0.7920\n",
      "Epoch 12/500\n",
      "125/125 [==============================] - 2s - loss: 0.4043 - acc: 0.8320 - val_loss: 0.3947 - val_acc: 0.8400\n",
      "Epoch 13/500\n",
      "125/125 [==============================] - 2s - loss: 0.2841 - acc: 0.8560 - val_loss: 0.3760 - val_acc: 0.8400\n",
      "Epoch 14/500\n",
      "125/125 [==============================] - 2s - loss: 0.3744 - acc: 0.8560 - val_loss: 0.3240 - val_acc: 0.8480\n",
      "Epoch 15/500\n",
      "125/125 [==============================] - 2s - loss: 0.3332 - acc: 0.8800 - val_loss: 0.3004 - val_acc: 0.8800\n",
      "Epoch 16/500\n",
      "125/125 [==============================] - 2s - loss: 0.4222 - acc: 0.8560 - val_loss: 0.3936 - val_acc: 0.8080\n",
      "Epoch 17/500\n",
      "125/125 [==============================] - 2s - loss: 0.3128 - acc: 0.8720 - val_loss: 0.2906 - val_acc: 0.8560\n",
      "Epoch 18/500\n",
      "125/125 [==============================] - 2s - loss: 0.4390 - acc: 0.8160 - val_loss: 0.4012 - val_acc: 0.8160\n",
      "Epoch 19/500\n",
      "125/125 [==============================] - 2s - loss: 0.3253 - acc: 0.8560 - val_loss: 0.3901 - val_acc: 0.8160\n",
      "Epoch 20/500\n",
      "125/125 [==============================] - 2s - loss: 0.4160 - acc: 0.8080 - val_loss: 0.2943 - val_acc: 0.8880\n",
      "Epoch 21/500\n",
      "125/125 [==============================] - 2s - loss: 0.3375 - acc: 0.8480 - val_loss: 0.4200 - val_acc: 0.8080\n",
      "Epoch 22/500\n",
      "125/125 [==============================] - 3s - loss: 0.3466 - acc: 0.8240 - val_loss: 0.4050 - val_acc: 0.8160\n",
      "Epoch 23/500\n",
      "125/125 [==============================] - 2s - loss: 0.3388 - acc: 0.8320 - val_loss: 0.4590 - val_acc: 0.8080\n",
      "Epoch 24/500\n",
      "125/125 [==============================] - 2s - loss: 0.4567 - acc: 0.8160 - val_loss: 0.3406 - val_acc: 0.8400\n",
      "Epoch 25/500\n",
      "125/125 [==============================] - 3s - loss: 0.2670 - acc: 0.8880 - val_loss: 0.2874 - val_acc: 0.8880\n",
      "Epoch 26/500\n",
      "125/125 [==============================] - 2s - loss: 0.4626 - acc: 0.7920 - val_loss: 0.4225 - val_acc: 0.7760\n",
      "Epoch 27/500\n",
      "125/125 [==============================] - 2s - loss: 0.3527 - acc: 0.8400 - val_loss: 0.3090 - val_acc: 0.8720\n",
      "Epoch 28/500\n",
      "125/125 [==============================] - 3s - loss: 0.3641 - acc: 0.8160 - val_loss: 0.3726 - val_acc: 0.8320\n",
      "Epoch 29/500\n",
      "125/125 [==============================] - 2s - loss: 0.3858 - acc: 0.8240 - val_loss: 0.4165 - val_acc: 0.8080\n",
      "Epoch 30/500\n",
      "125/125 [==============================] - 2s - loss: 0.3341 - acc: 0.8560 - val_loss: 0.2991 - val_acc: 0.8720\n",
      "Epoch 31/500\n",
      "125/125 [==============================] - 2s - loss: 0.3378 - acc: 0.8640 - val_loss: 0.4614 - val_acc: 0.8160\n",
      "Epoch 32/500\n",
      "125/125 [==============================] - 2s - loss: 0.3346 - acc: 0.8400 - val_loss: 0.3499 - val_acc: 0.8560\n",
      "Epoch 33/500\n",
      "125/125 [==============================] - 2s - loss: 0.3984 - acc: 0.8160 - val_loss: 0.3809 - val_acc: 0.8240\n",
      "Epoch 34/500\n",
      "125/125 [==============================] - 2s - loss: 0.3242 - acc: 0.8400 - val_loss: 0.3192 - val_acc: 0.8160\n",
      "Epoch 35/500\n",
      "125/125 [==============================] - 2s - loss: 0.3640 - acc: 0.8560 - val_loss: 0.3216 - val_acc: 0.8560\n",
      "Epoch 36/500\n",
      "125/125 [==============================] - 2s - loss: 0.3931 - acc: 0.8240 - val_loss: 0.3735 - val_acc: 0.7920\n",
      "Epoch 37/500\n",
      "100/125 [=======================>......] - ETA: 0s - loss: 0.4415 - acc: 0.7800"
     ]
    }
   ],
   "source": [
    "model.fit_generator(monet_gen,                  # Resize the image get from test dictionary\n",
    "                   samples_per_epoch=125,      # How many samples to use per epoch\n",
    "                   nb_epoch=500,                 # Number of epochs used\n",
    "                   validation_data = hold_out,  # Location of the validation data\n",
    "                   nb_val_samples=125,          # Validation samples used per epoch\n",
    "                   verbose=1)\n",
    "\n",
    "model.save_weights('monet_weights.h5', overwrite=True)"
   ]
  },
  {
   "cell_type": "code",
   "execution_count": null,
   "metadata": {
    "collapsed": false
   },
   "outputs": [],
   "source": [
    "train_data = np.load(open('bottleneck_features_train.npy'))\n",
    "# the features were saved in order, so recreating the labels is easy\n",
    "train_labels = np.array([0] * 750 + [1] * 750)\n",
    "\n",
    "validation_data = np.load(open('bottleneck_features_validation.npy'))\n",
    "validation_labels = np.array([0] * 500 + [1] * 500)\n",
    "\n",
    "model = Sequential()\n",
    "model.add(Flatten())\n",
    "model.add(Dense(256, activation='relu'))\n",
    "model.add(Dropout(0.5))\n",
    "model.add(Dense(1, activation='sigmoid'))\n",
    "\n",
    "model.compile(optimizer='rmsprop',\n",
    "              loss='binary_crossentropy',\n",
    "              metrics=['accuracy'])\n",
    "\n",
    "model.fit(train_data, train_labels,\n",
    "          nb_epoch=2500, batch_size=32,\n",
    "          validation_data=(validation_data, validation_labels))\n",
    "model.save_weights('bottleneck_fc_model.h5')"
   ]
  },
  {
   "cell_type": "code",
   "execution_count": null,
   "metadata": {
    "collapsed": false
   },
   "outputs": [],
   "source": [
    "from keras.utils.visualize_util import plot\n",
    "import pydot\n",
    "plot(model, to_file='model.png')"
   ]
  },
  {
   "cell_type": "code",
   "execution_count": null,
   "metadata": {
    "collapsed": false
   },
   "outputs": [],
   "source": [
    "monet_model = model.to_json() # Save model to json"
   ]
  },
  {
   "cell_type": "code",
   "execution_count": null,
   "metadata": {
    "collapsed": false
   },
   "outputs": [],
   "source": [
    "print(model.history)"
   ]
  },
  {
   "cell_type": "markdown",
   "metadata": {},
   "source": [
    "* Test : \n",
    "    * Monet:\n",
    "    * Not Monet:\n",
    "* Hold Out: **No Issues**\n",
    "    * Monet:\n",
    "    * Not Monet:\n",
    "\n",
    "*Initial running of the model found there was an issue with the image files and was given this error message:  \n",
    "**IOError: image file is truncated (39 bytes not processed)**  \n",
    "From [StackOverflow](http://bit.ly/21oXdhF) it was found that the images were likely corrupted or had unneeded trailing bytes. In order to find these truncated files used [jpeginfo](https://github.com/tjko/jpeginfo) to create a text file of the analysis of the jpegs. Output read by pandas allows for isolation of the trouble data.*\n"
   ]
  },
  {
   "cell_type": "markdown",
   "metadata": {},
   "source": [
    "!jpeginfo -c *.jpg >> Test_monet.txt"
   ]
  },
  {
   "cell_type": "code",
   "execution_count": null,
   "metadata": {
    "collapsed": true
   },
   "outputs": [],
   "source": [
    "import pandas as pd\n",
    "import numpy as np"
   ]
  },
  {
   "cell_type": "code",
   "execution_count": null,
   "metadata": {
    "collapsed": false
   },
   "outputs": [],
   "source": [
    "# test_monet = pd.read_csv(\"/Users/sebozek/Desktop/Test.txt\",delim_whitespace=True,header=None)\n",
    "# test_not_monet = pd.read_csv(\"/Users/sebozek/Desktop/Test.txt\",delim_whitespace=True,header=None)\n",
    "# val_monet = pd.read_csv(\"/Users/sebozek/Desktop/HoldOut.txt\",delim_whitespace=True,header=None, error_bad_lines=False)\n",
    "# val_not_monet = pd.read_csv(\"/Users/sebozek/Desktop/HoldOut_nm.txt\", delim_whitespace=True, header=None,  error_bad_lines=False)"
   ]
  },
  {
   "cell_type": "code",
   "execution_count": null,
   "metadata": {
    "collapsed": false
   },
   "outputs": [],
   "source": [
    "# dfs = [test_monet, test_not_monet, val_monet, val_not_monet]\n",
    "\n",
    "# # More Descriptive Labels\n",
    "# for df in dfs:\n",
    "#     df.columns = [\"img_name\", \"width\", \"x\", 'height', 'bits', 'format', 'N/P', 'pixels', 'test']"
   ]
  },
  {
   "cell_type": "code",
   "execution_count": null,
   "metadata": {
    "collapsed": false
   },
   "outputs": [],
   "source": [
    "# for df in dfs:\n",
    "#     print df.test.unique()\n",
    "    \n",
    "# print val_not_monet.test.unique()"
   ]
  },
  {
   "cell_type": "code",
   "execution_count": null,
   "metadata": {
    "collapsed": false
   },
   "outputs": [],
   "source": [
    "# val_not_monet['img_name'][val_not_monet.test == '[ERROR]'].values"
   ]
  },
  {
   "cell_type": "markdown",
   "metadata": {
    "collapsed": true,
    "slideshow": {
     "slide_type": "slide"
    }
   },
   "source": [
    "## To Do\n",
    "\n",
    "* Expand to try categorizing styles?\n",
    "* Figure out a few hatches\n",
    "* Try getting to above a 95% accuracy\n",
    "* Manipulate loss functions\n",
    "* Change the dropout rate and see what's going on\n",
    "* Validation\n",
    "    * ROC curve\n",
    "    * Confusion Matrix\n",
    "* What does model think is important?\n",
    "* Restricted Boltzmann Machine for Monet Replication"
   ]
  },
  {
   "cell_type": "code",
   "execution_count": null,
   "metadata": {
    "collapsed": true
   },
   "outputs": [],
   "source": [
    "# Import previous model (that worked)\n",
    "model.load_weights('my_model_weights.h5')\n",
    "\n",
    "# Get image output\n",
    "output_1 = K.function([model.layers[0].input],\n",
    "                     [model.layers[1].output])"
   ]
  },
  {
   "cell_type": "code",
   "execution_count": null,
   "metadata": {
    "collapsed": true
   },
   "outputs": [],
   "source": [
    "import json\n",
    "\n",
    "with open('model.txt', 'w') as outfile:\n",
    "    json.dump(data, outfile)"
   ]
  },
  {
   "cell_type": "code",
   "execution_count": null,
   "metadata": {
    "collapsed": false
   },
   "outputs": [],
   "source": [
    "test_not_monet.head(1)"
   ]
  },
  {
   "cell_type": "code",
   "execution_count": null,
   "metadata": {
    "collapsed": true
   },
   "outputs": [],
   "source": []
  }
 ],
 "metadata": {
  "kernelspec": {
   "display_name": "Python 2",
   "language": "python",
   "name": "python2"
  },
  "language_info": {
   "codemirror_mode": {
    "name": "ipython",
    "version": 2
   },
   "file_extension": ".py",
   "mimetype": "text/x-python",
   "name": "python",
   "nbconvert_exporter": "python",
   "pygments_lexer": "ipython2",
   "version": "2.7.11"
  }
 },
 "nbformat": 4,
 "nbformat_minor": 0
}
